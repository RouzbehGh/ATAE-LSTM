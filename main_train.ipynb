{
 "cells": [
  {
   "cell_type": "code",
   "execution_count": 1,
   "metadata": {},
   "outputs": [
    {
     "name": "stdout",
     "output_type": "stream",
     "text": [
      "importing Jupyter notebook from D:\\Jupyter\\ATAE-LSTM\\data\\Embedding.ipynb\n",
      "importing Jupyter notebook from D:\\Jupyter\\ATAE-LSTM\\data\\AspClas.ipynb\n",
      "importing Jupyter notebook from D:\\Jupyter\\ATAE-LSTM\\models\\ATAE_LSTM.ipynb\n",
      "importing Jupyter notebook from D:\\Jupyter\\ATAE-LSTM\\models\\BasicModule.ipynb\n"
     ]
    }
   ],
   "source": [
    "import ipdb\n",
    "import sys\n",
    "sys.path.append('../ATAE-LSTM')\n",
    "import Ipynb_importer\n",
    "from data.Embedding import Emb\n",
    "from data.AspClas import AspClas\n",
    "from models.ATAE_LSTM import ATAE_LSTM\n",
    "from utils.visualize import Visualizer\n",
    "from config import opt\n",
    "from tqdm import tqdm\n",
    "from random import randint"
   ]
  },
  {
   "cell_type": "code",
   "execution_count": 2,
   "metadata": {},
   "outputs": [],
   "source": [
    "import torch as t\n",
    "from torch.utils.data import DataLoader\n",
    "from torchnet import meter\n",
    "from torch.autograd import Variable"
   ]
  },
  {
   "cell_type": "code",
   "execution_count": 3,
   "metadata": {},
   "outputs": [],
   "source": [
    "def val(model, dataloader):\n",
    "    '''\n",
    "    计算模型在验证集上的准确率等信息\n",
    "    '''\n",
    "    \n",
    "    confusion_matrix = meter.ConfusionMeter(opt.classes)\n",
    "    \n",
    "    with t.no_grad():\n",
    "        for step, data in enumerate(tqdm(dataloader)):\n",
    "            sentence, terms, label = data\n",
    "            score = model(sentence, terms)\n",
    "            confusion_matrix.add(score.data, label.data.squeeze())\n",
    "    \n",
    "    cm_value = confusion_matrix.value()\n",
    "    accuracy = 100.0 * (cm_value.trace()) / (cm_value.sum())\n",
    "    return confusion_matrix, accuracy"
   ]
  },
  {
   "cell_type": "code",
   "execution_count": 4,
   "metadata": {
    "scrolled": true
   },
   "outputs": [
    {
     "name": "stderr",
     "output_type": "stream",
     "text": [
      "Setting up a new session...\n"
     ]
    }
   ],
   "source": [
    "! python -m visdom.server\n",
    "vis = Visualizer(opt.env)"
   ]
  },
  {
   "cell_type": "code",
   "execution_count": 5,
   "metadata": {},
   "outputs": [
    {
     "name": "stdout",
     "output_type": "stream",
     "text": [
      "Automatic pdb calling has been turned ON\n"
     ]
    },
    {
     "name": "stderr",
     "output_type": "stream",
     "text": [
      "100%|██████████████████████████████████████████████████████████████████████████| 3044/3044 [00:00<00:00, 338506.81it/s]\n",
      "100%|██████████████████████████████████████████████████████████████████████| 100000/100000 [00:00<00:00, 104007.78it/s]\n",
      "100%|████████████████████████████████████████████████████████████████████████| 100000/100000 [00:18<00:00, 5302.73it/s]\n"
     ]
    },
    {
     "name": "stdout",
     "output_type": "stream",
     "text": [
      "Embedding : successfully input 100000 pretrained word embeddings while 0 failed\n"
     ]
    },
    {
     "name": "stderr",
     "output_type": "stream",
     "text": [
      "100%|████████████████████████████████████████████████████████████████████████████| 100/100 [00:00<00:00, 100031.10it/s]\n"
     ]
    }
   ],
   "source": [
    "%pdb on\n",
    "# step1 data\n",
    "train_data = AspClas(opt.train_data_root, test=False, train=True)\n",
    "test_data = AspClas(opt.test_data_root, test=True, train=False, emb=train_data.emb)\n",
    "train_dataloader = DataLoader(\n",
    "    train_data,\n",
    "    opt.batch_size,\n",
    "    shuffle=True,\n",
    "    drop_last = True\n",
    ")\n",
    "test_dataloader = DataLoader(\n",
    "    test_data,\n",
    "    opt.batch_size,\n",
    "    shuffle=False,\n",
    "    drop_last = True\n",
    ")"
   ]
  },
  {
   "cell_type": "code",
   "execution_count": 6,
   "metadata": {},
   "outputs": [],
   "source": [
    "# step2 configure model\n",
    "model = ATAE_LSTM(emb=train_data.emb)\n",
    "if opt.use_cuda:\n",
    "    model = model.cuda()"
   ]
  },
  {
   "cell_type": "code",
   "execution_count": 7,
   "metadata": {},
   "outputs": [],
   "source": [
    "# step3 criterion and optimizer\n",
    "criterion = t.nn.CrossEntropyLoss()\n",
    "lr = opt.lr\n",
    "optimizer = t.optim.Adam(\n",
    "    model.parameters(),\n",
    "    lr = lr,\n",
    "    weight_decay = opt.weight_decay\n",
    ")"
   ]
  },
  {
   "cell_type": "code",
   "execution_count": 8,
   "metadata": {},
   "outputs": [],
   "source": [
    "# step4 meters\n",
    "loss_meter = meter.AverageValueMeter()\n",
    "confusion_matrix = meter.ConfusionMeter(opt.classes)\n",
    "previous_loss = 1e100"
   ]
  },
  {
   "cell_type": "code",
   "execution_count": 9,
   "metadata": {
    "scrolled": true
   },
   "outputs": [
    {
     "name": "stderr",
     "output_type": "stream",
     "text": [
      "100%|██████████████████████████████████████████████████████████████████████████████████| 24/24 [00:02<00:00, 11.53it/s]\n",
      "100%|███████████████████████████████████████████████████████████████████████████████▊| 631/632 [08:35<00:00,  1.35it/s]"
     ]
    },
    {
     "ename": "RuntimeError",
     "evalue": "shape '[4, 1, 300]' is invalid for input of size 300",
     "output_type": "error",
     "traceback": [
      "\u001b[1;31m---------------------------------------------------------------------------\u001b[0m",
      "\u001b[1;31mRuntimeError\u001b[0m                              Traceback (most recent call last)",
      "\u001b[1;32m<ipython-input-9-63da5e5698a3>\u001b[0m in \u001b[0;36m<module>\u001b[1;34m\u001b[0m\n\u001b[0;32m     17\u001b[0m     \u001b[1;32mfor\u001b[0m \u001b[0mstep\u001b[0m\u001b[1;33m,\u001b[0m \u001b[1;33m(\u001b[0m\u001b[0msentence\u001b[0m\u001b[1;33m,\u001b[0m \u001b[0mterms\u001b[0m\u001b[1;33m,\u001b[0m \u001b[0mlabel\u001b[0m\u001b[1;33m)\u001b[0m \u001b[1;32min\u001b[0m \u001b[0menumerate\u001b[0m\u001b[1;33m(\u001b[0m\u001b[0mtqdm\u001b[0m\u001b[1;33m(\u001b[0m\u001b[0mtrain_dataloader\u001b[0m\u001b[1;33m)\u001b[0m\u001b[1;33m)\u001b[0m\u001b[1;33m:\u001b[0m\u001b[1;33m\u001b[0m\u001b[1;33m\u001b[0m\u001b[0m\n\u001b[0;32m     18\u001b[0m \u001b[1;33m\u001b[0m\u001b[0m\n\u001b[1;32m---> 19\u001b[1;33m         \u001b[0mscore\u001b[0m \u001b[1;33m=\u001b[0m \u001b[0mmodel\u001b[0m\u001b[1;33m(\u001b[0m\u001b[0msentence\u001b[0m\u001b[1;33m,\u001b[0m \u001b[0mterms\u001b[0m\u001b[1;33m)\u001b[0m\u001b[1;33m\u001b[0m\u001b[1;33m\u001b[0m\u001b[0m\n\u001b[0m\u001b[0;32m     20\u001b[0m         \u001b[0mloss\u001b[0m \u001b[1;33m=\u001b[0m \u001b[0mcriterion\u001b[0m\u001b[1;33m(\u001b[0m\u001b[0mscore\u001b[0m\u001b[1;33m,\u001b[0m \u001b[0mlabel\u001b[0m\u001b[1;33m.\u001b[0m\u001b[0msqueeze\u001b[0m\u001b[1;33m(\u001b[0m\u001b[1;33m)\u001b[0m\u001b[1;33m)\u001b[0m\u001b[1;33m\u001b[0m\u001b[1;33m\u001b[0m\u001b[0m\n\u001b[0;32m     21\u001b[0m         \u001b[0mloss\u001b[0m\u001b[1;33m.\u001b[0m\u001b[0mbackward\u001b[0m\u001b[1;33m(\u001b[0m\u001b[1;33m)\u001b[0m\u001b[1;33m\u001b[0m\u001b[1;33m\u001b[0m\u001b[0m\n",
      "\u001b[1;32mC:\\ProgramData\\Anaconda3\\lib\\site-packages\\torch\\nn\\modules\\module.py\u001b[0m in \u001b[0;36m__call__\u001b[1;34m(self, *input, **kwargs)\u001b[0m\n\u001b[0;32m    530\u001b[0m             \u001b[0mresult\u001b[0m \u001b[1;33m=\u001b[0m \u001b[0mself\u001b[0m\u001b[1;33m.\u001b[0m\u001b[0m_slow_forward\u001b[0m\u001b[1;33m(\u001b[0m\u001b[1;33m*\u001b[0m\u001b[0minput\u001b[0m\u001b[1;33m,\u001b[0m \u001b[1;33m**\u001b[0m\u001b[0mkwargs\u001b[0m\u001b[1;33m)\u001b[0m\u001b[1;33m\u001b[0m\u001b[1;33m\u001b[0m\u001b[0m\n\u001b[0;32m    531\u001b[0m         \u001b[1;32melse\u001b[0m\u001b[1;33m:\u001b[0m\u001b[1;33m\u001b[0m\u001b[1;33m\u001b[0m\u001b[0m\n\u001b[1;32m--> 532\u001b[1;33m             \u001b[0mresult\u001b[0m \u001b[1;33m=\u001b[0m \u001b[0mself\u001b[0m\u001b[1;33m.\u001b[0m\u001b[0mforward\u001b[0m\u001b[1;33m(\u001b[0m\u001b[1;33m*\u001b[0m\u001b[0minput\u001b[0m\u001b[1;33m,\u001b[0m \u001b[1;33m**\u001b[0m\u001b[0mkwargs\u001b[0m\u001b[1;33m)\u001b[0m\u001b[1;33m\u001b[0m\u001b[1;33m\u001b[0m\u001b[0m\n\u001b[0m\u001b[0;32m    533\u001b[0m         \u001b[1;32mfor\u001b[0m \u001b[0mhook\u001b[0m \u001b[1;32min\u001b[0m \u001b[0mself\u001b[0m\u001b[1;33m.\u001b[0m\u001b[0m_forward_hooks\u001b[0m\u001b[1;33m.\u001b[0m\u001b[0mvalues\u001b[0m\u001b[1;33m(\u001b[0m\u001b[1;33m)\u001b[0m\u001b[1;33m:\u001b[0m\u001b[1;33m\u001b[0m\u001b[1;33m\u001b[0m\u001b[0m\n\u001b[0;32m    534\u001b[0m             \u001b[0mhook_result\u001b[0m \u001b[1;33m=\u001b[0m \u001b[0mhook\u001b[0m\u001b[1;33m(\u001b[0m\u001b[0mself\u001b[0m\u001b[1;33m,\u001b[0m \u001b[0minput\u001b[0m\u001b[1;33m,\u001b[0m \u001b[0mresult\u001b[0m\u001b[1;33m)\u001b[0m\u001b[1;33m\u001b[0m\u001b[1;33m\u001b[0m\u001b[0m\n",
      "\u001b[1;32mD:\\Jupyter\\ATAE-LSTM\\models\\ATAE_LSTM.ipynb\u001b[0m in \u001b[0;36mforward\u001b[1;34m(self, sentence, term)\u001b[0m\n",
      "\u001b[1;31mRuntimeError\u001b[0m: shape '[4, 1, 300]' is invalid for input of size 300"
     ]
    },
    {
     "name": "stdout",
     "output_type": "stream",
     "text": [
      "> <string>(81)forward()\n",
      "\n",
      "ipdb> u\n",
      "> c:\\programdata\\anaconda3\\lib\\site-packages\\torch\\nn\\modules\\module.py(532)__call__()\n",
      "    530             result = self._slow_forward(*input, **kwargs)\n",
      "    531         else:\n",
      "--> 532             result = self.forward(*input, **kwargs)\n",
      "    533         for hook in self._forward_hooks.values():\n",
      "    534             hook_result = hook(self, input, result)\n",
      "\n",
      "ipdb> u\n",
      "> <ipython-input-9-63da5e5698a3>(19)<module>()\n",
      "     17     for step, (sentence, terms, label) in enumerate(tqdm(train_dataloader)):\n",
      "     18 \n",
      "---> 19         score = model(sentence, terms)\n",
      "     20         loss = criterion(score, label.squeeze())\n",
      "     21         loss.backward()\n",
      "\n",
      "ipdb> q\n"
     ]
    }
   ],
   "source": [
    "# step5 train\n",
    "\n",
    "# validate and visualize at start\n",
    "val_cm, val_accuracy = val(model, test_dataloader)\n",
    "vis.plot('val_accuracy', val_accuracy)\n",
    "vis.plot('lr', lr)\n",
    "vis.log(\"epoch:{epoch},\\nlr:{lr},\\ntrain_cm:{train_cm},\\nval_cm:{val_cm}\".format(\n",
    "    epoch = 0,\n",
    "    val_cm = str(val_cm.value()),\n",
    "    train_cm=str(confusion_matrix.value()),\n",
    "    lr=lr\n",
    "))\n",
    "\n",
    "total_step = 0\n",
    "for epoch in range(opt.max_epoch):\n",
    "    loss_meter.reset()\n",
    "    confusion_matrix.reset()\n",
    "    \n",
    "    for step, (sentence, terms, label) in enumerate(tqdm(train_dataloader)):\n",
    "        \n",
    "        if opt.use_cuda:\n",
    "            sentence, terms, label = sentence.cuda(), terms.cuda(), label.cuda()\n",
    "        \n",
    "        score = model(sentence, terms)\n",
    "        loss = criterion(score, label.squeeze())\n",
    "        loss.backward()\n",
    "        optimizer.step()\n",
    "        \n",
    "        # meters update and visualize\n",
    "        loss_meter.add(loss.data)\n",
    "        confusion_matrix.add(score.data, label.data.squeeze())\n",
    "        if total_step%opt.print_freq == 0:\n",
    "            vis.plot('loss', loss_meter.value()[0])\n",
    "            vis.log(\"score:{score},target:{label}\".format(\n",
    "                score = score,\n",
    "                label = label\n",
    "            ))\n",
    "        total_step += 1\n",
    "        \n",
    "    model.save()\n",
    "    \n",
    "    # validate and visualize\n",
    "    val_cm, val_accuracy = val(model, test_dataloader)\n",
    "    \n",
    "    vis.plot('val_accuracy', val_accuracy)\n",
    "    vis.plot('lr', lr*1000)\n",
    "    vis.log(\"epoch:{epoch},\\nlr:{lr},\\ntrain_cm:{train_cm},\\nval_cm:{val_cm}\".format(\n",
    "        epoch = epoch,\n",
    "        val_cm = str(val_cm.value()),\n",
    "        train_cm=str(confusion_matrix.value()),\n",
    "        lr=lr\n",
    "    ))\n",
    "    \n",
    "    # update learning rate\n",
    "    if loss_meter.value()[0].item() >= previous_loss:\n",
    "        lr = lr * opt.lr_decay\n",
    "        for param_group in optimizer.param_groups:\n",
    "            param_group['lr'] = lr\n",
    "    previous_loss = loss_meter.value()[0]"
   ]
  }
 ],
 "metadata": {
  "kernelspec": {
   "display_name": "Python 3",
   "language": "python",
   "name": "python3"
  },
  "language_info": {
   "codemirror_mode": {
    "name": "ipython",
    "version": 3
   },
   "file_extension": ".py",
   "mimetype": "text/x-python",
   "name": "python",
   "nbconvert_exporter": "python",
   "pygments_lexer": "ipython3",
   "version": "3.7.4"
  }
 },
 "nbformat": 4,
 "nbformat_minor": 2
}
